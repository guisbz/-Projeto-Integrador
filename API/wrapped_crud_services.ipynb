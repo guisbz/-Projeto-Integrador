{
 "cells": [
  {
   "cell_type": "code",
   "execution_count": null,
   "metadata": {},
   "outputs": [],
   "source": [
    "import json\n",
    "\n",
    "\n",
    "class Crud:\n",
    "    def __init__(self, json_path: str):\n",
    "        self.json_path = json_path\n",
    "\n",
    "    def cadastrar(login, senha):\n",
    "        json.load"
   ]
  },
  {
   "cell_type": "code",
   "execution_count": 5,
   "metadata": {},
   "outputs": [
    {
     "name": "stdout",
     "output_type": "stream",
     "text": [
      "[{'nome': 'Guilherme', 'senha': '123'}, {'nome': 'Waldemario', 'senha': '321'}, {'nome': 'Maria', 'senha': '444'}, {'nome': 'Maraao', 'senha': '434'}, {'nome': 'Guilherme23', 'senha': '667'}, {'nome': 'Maranhao', 'senha': '3123123'}, {'nome': 'gui.sbz@hotmail.com', 'senha': '21312312q312'}, {'nome': 'Rogerio', 'senha': '321'}, {'nome': 'Joab', 'senha': '321'}, {'nome': 'q', 'senha': 'q'}]\n"
     ]
    }
   ],
   "source": [
    "import json\n",
    "import requests\n",
    "\n",
    "json_path = r\"D:\\Pessoal\\Aleatorio\\Projeto_Waldo\\LootUsado\\usuarios.json\"\n",
    "with open(json_path, \"r\", encoding=\"utf-8\") as f:\n",
    "    data = json.load(f)\n",
    "\n"
   ]
  },
  {
   "cell_type": "code",
   "execution_count": 9,
   "metadata": {},
   "outputs": [],
   "source": [
    "def json_to_dict(json_path: str) -> dict:\n",
    "    with open(json_path, \"r\", encoding=\"utf-8\") as f:\n",
    "        data = json.load(f)\n",
    "\n",
    "    return data"
   ]
  },
  {
   "cell_type": "code",
   "execution_count": 11,
   "metadata": {},
   "outputs": [],
   "source": [
    "def dict_to_json(json_path: str, data: str) -> None:\n",
    "    with open(json_path, \"w\", encoding=\"utf-8\") as f:\n",
    "        json.dump(data, f)"
   ]
  },
  {
   "cell_type": "code",
   "execution_count": 17,
   "metadata": {},
   "outputs": [],
   "source": [
    "def existe_nome(data, nome):\n",
    "    for user in data:\n",
    "        if user[\"nome\"] == nome:\n",
    "            return 1\n",
    "\n",
    "    return 0"
   ]
  },
  {
   "cell_type": "code",
   "execution_count": 31,
   "metadata": {},
   "outputs": [],
   "source": [
    "def cadastrar(nome=None, senha=None, json_path=None):\n",
    "    data = json_to_dict(json_path)\n",
    "    if existe_nome(data, nome):\n",
    "        return {\"status\": \"0\", \"message\": \"nome já existente\", \"error code\": 1}\n",
    "    else:\n",
    "        new_user = {\"nome\": nome, \"senha\": senha}\n",
    "\n",
    "        data.append(new_user)\n",
    "        # print(data)\n",
    "        dict_to_json(json_path, data)\n",
    "\n",
    "\n",
    "        return {\"status\": \"1\", \"message\": \"usuário cadastrado\", \"error code\": 0}\n",
    "\n",
    "def login(nome=None, senha=None, json_path=None):\n",
    "    data = json_to_dict(json_path)\n",
    "    \n",
    "    for user in data:\n",
    "        if user[\"nome\"] == nome:\n",
    "            if user[\"senha\"] == senha:\n",
    "                return {\"status\": \"1\", \"message\": \"usuário validado\", \"error code\": 0}\n",
    "            else:\n",
    "                return {\"status\": \"0\", \"message\": \"senha inválida\", \"error code\": 2}\n",
    "    \n",
    "    return {\"status\": \"0\", \"message\": \"usuário não cadastrado\", \"error code\": 3}\n",
    "        \n",
    "        \n",
    "    \n"
   ]
  },
  {
   "cell_type": "code",
   "execution_count": 34,
   "metadata": {},
   "outputs": [
    {
     "data": {
      "text/plain": [
       "{'status': '0', 'message': 'nome já existente', 'error code': 1}"
      ]
     },
     "execution_count": 34,
     "metadata": {},
     "output_type": "execute_result"
    }
   ],
   "source": [
    "json_path = r\"D:\\Pessoal\\Aleatorio\\Projeto_Waldo\\API\\teste.json\"\n",
    "user_teste = {\"nome\": \"selton\", \"senha\": 1234}\n",
    "cadastrar(json_path=json_path, **user_teste)"
   ]
  },
  {
   "cell_type": "code",
   "execution_count": 36,
   "metadata": {},
   "outputs": [
    {
     "data": {
      "text/plain": [
       "0"
      ]
     },
     "execution_count": 36,
     "metadata": {},
     "output_type": "execute_result"
    }
   ],
   "source": [
    "data = json_to_dict(json_path)\n",
    "existe_nome(data, \"Selton\")"
   ]
  }
 ],
 "metadata": {
  "kernelspec": {
   "display_name": "MyVenv",
   "language": "python",
   "name": "python3"
  },
  "language_info": {
   "codemirror_mode": {
    "name": "ipython",
    "version": 3
   },
   "file_extension": ".py",
   "mimetype": "text/x-python",
   "name": "python",
   "nbconvert_exporter": "python",
   "pygments_lexer": "ipython3",
   "version": "3.9.12"
  }
 },
 "nbformat": 4,
 "nbformat_minor": 2
}
